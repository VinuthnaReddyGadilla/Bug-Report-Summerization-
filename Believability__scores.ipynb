{
  "nbformat": 4,
  "nbformat_minor": 0,
  "metadata": {
    "colab": {
      "provenance": []
    },
    "kernelspec": {
      "name": "python3",
      "display_name": "Python 3"
    },
    "language_info": {
      "name": "python"
    }
  },
  "cells": [
    {
      "cell_type": "code",
      "source": [
        "import pandas as pd\n",
        "import numpy as np\n",
        "from sklearn.model_selection import train_test_split\n",
        "from sklearn.preprocessing import StandardScaler\n",
        "from sklearn.svm import SVC\n",
        "from sklearn.metrics import accuracy_score\n",
        "\n",
        "# Load the dataset\n",
        "df = pd.read_csv('/content/drive/MyDrive/BugSum-master/excel sheet/processed_embeddings.csv')\n",
        "\n",
        "# Robust conversion of 'Sentence_Embeddings' from string representations to numpy arrays\n",
        "def convert_embeddings(embeddings_str):\n",
        "    # Split the string by spaces and convert each number to float\n",
        "    embeddings_list = embeddings_str.strip('[]').split()\n",
        "    return np.array([float(e) for e in embeddings_list if e], dtype=np.float32)\n",
        "\n",
        "df['Sentence_Embeddings'] = df['Sentence_Embeddings'].apply(convert_embeddings)\n",
        "\n",
        "# Define a function to label sentences based on heuristic rules\n",
        "def label_sentence(sentence):\n",
        "    important_keywords = ['fixed', 'resolved', 'correct', 'implemented']\n",
        "    not_important_keywords = ['issue', 'problem', 'incorrect', 'not working', 'failed']\n",
        "    sentence_lower = sentence.lower()\n",
        "    if any(keyword in sentence_lower for keyword in important_keywords):\n",
        "        return 0  # 'important'\n",
        "    elif any(keyword in sentence_lower for keyword in not_important_keywords):\n",
        "        return 2  # 'not important'\n",
        "    else:\n",
        "        return 1  # 'medium important'\n",
        "\n",
        "# Apply the labeling function to each sentence\n",
        "df['ApprovalCategory'] = df['Sentence'].apply(label_sentence)\n",
        "\n",
        "# Prepare data for SVM\n",
        "X = np.vstack(df['Sentence_Embeddings'].values)\n",
        "y = df['ApprovalCategory'].values\n",
        "\n",
        "# Split the data\n",
        "X_train, X_test, y_train, y_test = train_test_split(X, y, test_size=0.2, random_state=42)\n",
        "\n",
        "# Scale the features\n",
        "scaler = StandardScaler()\n",
        "X_train_scaled = scaler.fit_transform(X_train)\n",
        "X_test_scaled = scaler.transform(X_test)\n",
        "\n",
        "# Train an SVM classifier\n",
        "svm_clf = SVC(kernel='linear', decision_function_shape='ovo', probability=True, random_state=42)\n",
        "svm_clf.fit(X_train_scaled, y_train)\n",
        "\n",
        "# Predict class probabilities\n",
        "probabilities = svm_clf.predict_proba(X_test_scaled)\n",
        "\n",
        "# Use the probability of the \"not important\" class as the believability score\n",
        "believability_scores = probabilities[:, 2]\n",
        "\n",
        "# Optionally, evaluate the model\n",
        "y_pred = svm_clf.predict(X_test_scaled)\n",
        "print(\"Accuracy:\", accuracy_score(y_test, y_pred))\n",
        "\n",
        "# Append the believability scores to the dataframe\n",
        "#df['Believability Score'] = believability_scores\n",
        "print(\"Sample believability scores:\", believability_scores[:10])\n",
        "\n",
        "# Save the updated dataframe to a new CSV file\n",
        "#df.to_csv('/content/drive/MyDrive/BugSum-master/excel sheet/scores.csv', index=False)"
      ],
      "metadata": {
        "id": "8IOXwyXcwQOT",
        "colab": {
          "base_uri": "https://localhost:8080/"
        },
        "outputId": "b951819d-8af1-4784-b5ff-cadd64500cec"
      },
      "execution_count": null,
      "outputs": [
        {
          "output_type": "stream",
          "name": "stdout",
          "text": [
            "Accuracy: 0.9095816464237517\n",
            "Sample believability scores: [0.04831069 0.07888245 0.0670999  0.06840869 0.01441611 0.04009848\n",
            " 0.03701878 0.02327576 0.05239211 0.06861062]\n"
          ]
        }
      ]
    },
    {
      "cell_type": "code",
      "source": [
        "import pandas as pd\n",
        "import numpy as np\n",
        "from sklearn.preprocessing import StandardScaler\n",
        "from sklearn.svm import SVC\n",
        "from sklearn.metrics import accuracy_score\n",
        "\n",
        "# Load the dataset\n",
        "df = pd.read_csv('/content/drive/MyDrive/BugSum-master/excel sheet/processed_embeddings.csv')\n",
        "\n",
        "# Robust conversion of 'Sentence_Embeddings' from string representations to numpy arrays\n",
        "def convert_embeddings(embeddings_str):\n",
        "    # Split the string by spaces and convert each number to float\n",
        "    embeddings_list = embeddings_str.strip('[]').split()\n",
        "    return np.array([float(e) for e in embeddings_list if e], dtype=np.float32)\n",
        "\n",
        "df['Sentence_Embeddings'] = df['Sentence_Embeddings'].apply(convert_embeddings)\n",
        "\n",
        "# Define a function to label sentences based on heuristic rules\n",
        "def label_sentence(sentence):\n",
        "    important_keywords = ['fixed', 'resolved', 'correct', 'implemented']\n",
        "    not_important_keywords = ['issue', 'problem', 'incorrect', 'not working', 'failed']\n",
        "    sentence_lower = sentence.lower()\n",
        "    if any(keyword in sentence_lower for keyword in important_keywords):\n",
        "        return 0  # 'important'\n",
        "    elif any(keyword in sentence_lower for keyword in not_important_keywords):\n",
        "        return 2  # 'not important'\n",
        "    else:\n",
        "        return 1  # 'medium important'\n",
        "\n",
        "# Apply the labeling function to each sentence\n",
        "df['ApprovalCategory'] = df['Sentence'].apply(label_sentence)\n",
        "\n",
        "# Prepare data for SVM\n",
        "X = np.vstack(df['Sentence_Embeddings'].values)\n",
        "y = df['ApprovalCategory'].values\n",
        "\n",
        "# Scale the features\n",
        "scaler = StandardScaler()\n",
        "X_train_scaled = scaler.fit_transform(X_train)\n",
        "\n",
        "# Train an SVM classifier\n",
        "svm_clf = SVC(kernel='linear', decision_function_shape='ovo', probability=True, random_state=42)\n",
        "svm_clf.fit(X_train_scaled, y_train)\n",
        "\n",
        "# Scale the entire dataset features\n",
        "X_scaled = scaler.fit_transform(X)\n",
        "\n",
        "# Predict class probabilities for the entire dataset\n",
        "probabilities = svm_clf.predict_proba(X_scaled)\n",
        "\n",
        "# Use the probability of the \"not important\" class as the believability score for the entire dataset\n",
        "believability_scores = probabilities[:, 2]\n",
        "\n",
        "# Optionally, evaluate the model\n",
        "y_pred = svm_clf.predict(X_test_scaled)\n",
        "print(\"Accuracy:\", accuracy_score(y_test, y_pred))\n",
        "\n",
        "# Append the believability scores to the dataframe\n",
        "df['Believability Score'] = believability_scores\n",
        "print(\"Sample believability scores:\", believability_scores[:10])\n",
        "\n",
        "# Save the updated dataframe to a new CSV file\n",
        "df.to_csv('/content/drive/MyDrive/BugSum-master/excel sheet/scores.csv', index=False)"
      ],
      "metadata": {
        "colab": {
          "base_uri": "https://localhost:8080/"
        },
        "id": "-VFW0uLuGsEJ",
        "outputId": "8da00b93-2590-4b7f-91d2-3dd012d160cc"
      },
      "execution_count": null,
      "outputs": [
        {
          "output_type": "stream",
          "name": "stdout",
          "text": [
            "Accuracy: 0.9095816464237517\n",
            "Sample believability scores: [0.05778307 0.07718918 0.01977399 0.06685629 0.07290404 0.04423179\n",
            " 0.04749297 0.05652807 0.0506163  0.01960746]\n"
          ]
        }
      ]
    }
  ]
}