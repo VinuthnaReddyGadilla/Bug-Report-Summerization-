{
  "nbformat": 4,
  "nbformat_minor": 0,
  "metadata": {
    "colab": {
      "provenance": []
    },
    "kernelspec": {
      "name": "python3",
      "display_name": "Python 3"
    },
    "language_info": {
      "name": "python"
    }
  },
  "cells": [
    {
      "cell_type": "code",
      "execution_count": null,
      "metadata": {
        "colab": {
          "base_uri": "https://localhost:8080/"
        },
        "id": "6p3CKlX_7FyP",
        "outputId": "cbae5010-1e21-4797-a5df-875abcb42f4d"
      },
      "outputs": [
        {
          "output_type": "stream",
          "name": "stdout",
          "text": [
            "Optimized E: 0.9999940391390134\n"
          ]
        }
      ],
      "source": [
        "import pandas as pd\n",
        "from scipy.optimize import minimize_scalar\n",
        "\n",
        "# Load the dataset\n",
        "data = pd.read_csv('/content/drive/MyDrive/BugSum-master/excel sheet/scores.csv')\n",
        "\n",
        "# Normalize the scores\n",
        "def normalize_scores(scores):\n",
        "    return (scores - scores.min()) / (scores.max() - scores.min())\n",
        "\n",
        "data['Believability Score'] = normalize_scores(data['Believability Score'])\n",
        "data['TextRank_Score'] = normalize_scores(data['TextRank_Score'])\n",
        "\n",
        "# Define the performance metric function, crucial for optimization\n",
        "def calculate_performance_metric(E, data):\n",
        "    combined_score = E * data['Believability Score'] + (1 - E) * data['TextRank_Score']\n",
        "    # Using variance of the combined scores as a simplified performance metric\n",
        "    return -combined_score.var()\n",
        "\n",
        "# Objective function for optimization, directly utilizing the performance metric\n",
        "def objective_function(E, data):\n",
        "    return calculate_performance_metric(E, data)\n",
        "\n",
        "# Optimization to find the best E\n",
        "result = minimize_scalar(objective_function, bounds=(0, 1), args=(data,), method='bounded')\n",
        "\n",
        "# Best value of E found through optimization\n",
        "best_E = result.x\n",
        "\n",
        "# Calculate the combined score with the optimized E\n",
        "data['Combined_Score'] = best_E * data['Believability Score'] + (1 - best_E) * data['TextRank_Score']\n",
        "\n",
        "# Save the updated dataframe with the new combined score\n",
        "data.to_csv('/content/drive/MyDrive/BugSum-master/excel sheet/scores.csv', index=False)  # Update the path as needed\n",
        "\n",
        "print(f\"Optimized E: {best_E}\")\n"
      ]
    }
  ]
}