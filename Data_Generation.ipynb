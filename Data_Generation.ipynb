{
  "nbformat": 4,
  "nbformat_minor": 0,
  "metadata": {
    "colab": {
      "provenance": []
    },
    "kernelspec": {
      "name": "python3",
      "display_name": "Python 3"
    },
    "language_info": {
      "name": "python"
    }
  },
  "cells": [
    {
      "cell_type": "code",
      "execution_count": null,
      "metadata": {
        "id": "dsoDVg_uJ31m"
      },
      "outputs": [],
      "source": [
        "import pandas as pd\n",
        "from decimal import Decimal\n",
        "import xml.etree.ElementTree as ET\n",
        "import re"
      ]
    },
    {
      "cell_type": "code",
      "source": [
        "# Path to your XML file\n",
        "xml_file_path = \"/content/drive/MyDrive/BugSum-master/Dataset/ADS/ADS.xml\""
      ],
      "metadata": {
        "id": "eDhpFVtDJ7Vh"
      },
      "execution_count": null,
      "outputs": []
    },
    {
      "cell_type": "code",
      "source": [
        "# Lists to store data\n",
        "bug_ids = []\n",
        "bug_nums = []\n",
        "titles = []\n",
        "sentence_numbers = []\n",
        "sentences = []\n",
        "comment_authors = []"
      ],
      "metadata": {
        "id": "XptyPs_jJ9iV"
      },
      "execution_count": null,
      "outputs": []
    },
    {
      "cell_type": "code",
      "source": [
        "# Parse the XML file\n",
        "tree = ET.parse(xml_file_path)\n",
        "root = tree.getroot()"
      ],
      "metadata": {
        "id": "pjsJP_kmKAFw"
      },
      "execution_count": null,
      "outputs": []
    },
    {
      "cell_type": "code",
      "source": [
        "# Counter for serial number\n",
        "#serial_num = 1"
      ],
      "metadata": {
        "id": "YcEEJwzwKCye"
      },
      "execution_count": null,
      "outputs": []
    },
    {
      "cell_type": "code",
      "source": [
        "# Iterate through each BugReport element\n",
        "for bug_report_element in root.findall('BugReport'):\n",
        "    bug_id = int(bug_report_element.attrib.get('ID'))\n",
        "\n",
        "    # Extract numerical part from the title for Bug_Num using regular expression\n",
        "    title = bug_report_element.find('Title').text\n",
        "    bug_num_match = re.search(r'\\((\\d+)\\)', title)\n",
        "    bug_num = int(bug_num_match.group(1)) if bug_num_match else None\n",
        "\n",
        "    # Iterate through each Turn element\n",
        "    for turn_element in bug_report_element.findall('.//Turn'):\n",
        "        # Iterate through each Sentence element\n",
        "        for sentence_element in turn_element.findall('Text/Sentence'):\n",
        "            # Extract complete Sentence ID and BugReport ID\n",
        "            sentence_id = sentence_element.attrib.get('ID')\n",
        "            sentence_text = sentence_element.text.strip()\n",
        "            comment_author = turn_element.find('From').text.strip(\"'\")\n",
        "\n",
        "            # Remove numerical part from the title and append the rest to the titles list\n",
        "            stripped_title = re.sub(r'\\(\\d+\\)', '', title).strip().strip('\"') or None\n",
        "            titles.append(stripped_title)\n",
        "\n",
        "            # Append data to other lists\n",
        "            bug_ids.append(bug_id)\n",
        "            bug_nums.append(bug_num)\n",
        "            sentence_numbers.append(sentence_id)\n",
        "            sentences.append(sentence_text)\n",
        "            comment_authors.append(comment_author)\n"
      ],
      "metadata": {
        "id": "dXJjuY6EKQU9"
      },
      "execution_count": null,
      "outputs": []
    },
    {
      "cell_type": "code",
      "source": [
        "# Create a DataFrame\n",
        "data = {\n",
        "    \"BugNum\": bug_ids,\n",
        "    \"BugID\": bug_nums,\n",
        "    \"Title\": titles,\n",
        "    \"SenNumber\": sentence_numbers,\n",
        "    \"Sentence\": sentences,\n",
        "    \"CommentAuthor\": comment_authors\n",
        "}\n",
        "df = pd.DataFrame(data)"
      ],
      "metadata": {
        "id": "XILalYqAKTxg"
      },
      "execution_count": null,
      "outputs": []
    },
    {
      "cell_type": "code",
      "source": [
        "# Save the DataFrame to an Excel file\n",
        "excel_output_path = \"/content/drive/MyDrive/BugSum-master/excel sheet/output.csv\"\n",
        "df.to_csv(excel_output_path, index=False)"
      ],
      "metadata": {
        "id": "eC-Dn-EpKWI5"
      },
      "execution_count": null,
      "outputs": []
    },
    {
      "cell_type": "code",
      "source": [],
      "metadata": {
        "id": "vFgYPlbrKbro"
      },
      "execution_count": null,
      "outputs": []
    }
  ]
}