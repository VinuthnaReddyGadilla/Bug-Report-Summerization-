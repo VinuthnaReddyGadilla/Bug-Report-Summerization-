{
  "nbformat": 4,
  "nbformat_minor": 0,
  "metadata": {
    "colab": {
      "provenance": []
    },
    "kernelspec": {
      "name": "python3",
      "display_name": "Python 3"
    },
    "language_info": {
      "name": "python"
    }
  },
  "cells": [
    {
      "cell_type": "markdown",
      "source": [
        "## Generating Text Rank Score"
      ],
      "metadata": {
        "id": "sfodxV3rIYfJ"
      }
    },
    {
      "cell_type": "code",
      "source": [
        "import pandas as pd\n",
        "import numpy as np\n",
        "from sklearn.metrics.pairwise import cosine_similarity\n",
        "import networkx as nx\n",
        "\n",
        "# Load your dataset\n",
        "df = pd.read_csv('/content/drive/MyDrive/BugSum-master/excel sheet/scores.csv')\n",
        "\n",
        "# Function to convert string embeddings back to numpy arrays\n",
        "def string_to_array(s):\n",
        "    return np.array(list(map(float, s.strip('[]').split())))\n",
        "\n",
        "# Apply the conversion function to your embeddings column\n",
        "df['Sentence_Embeddings'] = df['Sentence_Embeddings'].apply(string_to_array)\n",
        "\n",
        "# Stack all sentence embeddings into a matrix\n",
        "embeddings_matrix = np.stack(df['Sentence_Embeddings'].values)\n",
        "\n",
        "# Calculate cosine similarity matrix\n",
        "similarity_matrix = cosine_similarity(embeddings_matrix)\n",
        "\n",
        "# Create a graph from the similarity matrix\n",
        "G = nx.from_numpy_array(similarity_matrix)\n",
        "\n",
        "# Use PageRank to calculate scores\n",
        "pagerank_scores = nx.pagerank(G, alpha=0.75)\n",
        "\n",
        "# Add PageRank scores to the dataframe\n",
        "df['TextRank_Score'] = df.index.map(pagerank_scores.get)\n",
        "\n",
        "# Sort the DataFrame based on the TextRank scores to see the top-ranked sentences\n",
        "df_sorted = df.sort_values(by='TextRank_Score', ascending=False)\n",
        "\n",
        "# Save the updated dataframe to a new CSV file\n",
        "df.to_csv('/content/drive/MyDrive/BugSum-master/excel sheet/scores.csv', index=False)\n",
        "\n",
        "# Display the top-ranked sentences\n",
        "print(df_sorted[['BugNum', 'SenNumber', 'Sentence', 'TextRank_Score']].head())\n",
        "\n"
      ],
      "metadata": {
        "colab": {
          "base_uri": "https://localhost:8080/"
        },
        "id": "dw-SBa2aGudH",
        "outputId": "f6e1dd26-7601-4ae2-ced0-c3a348ad8db4"
      },
      "execution_count": null,
      "outputs": [
        {
          "output_type": "stream",
          "name": "stdout",
          "text": [
            "      BugNum  SenNumber                                           Sentence  \\\n",
            "3474      83        1.7  this means that if people have gimp-2.0 instal...   \n",
            "129        3        8.3  after moving to wtp 2.0, the project will no l...   \n",
            "2841      56       15.7  note: saving as draft an email with no recipie...   \n",
            "1844      38        7.3  > it might be worth adding another flag that i...   \n",
            "1832      38        5.2  it might be worth adding another flag that is ...   \n",
            "\n",
            "      TextRank_Score  \n",
            "3474        0.000275  \n",
            "129         0.000275  \n",
            "2841        0.000275  \n",
            "1844        0.000275  \n",
            "1832        0.000275  \n"
          ]
        }
      ]
    },
    {
      "cell_type": "code",
      "source": [],
      "metadata": {
        "id": "Q-1RLEhgHdSs"
      },
      "execution_count": null,
      "outputs": []
    }
  ]
}