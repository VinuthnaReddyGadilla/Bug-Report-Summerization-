{
  "nbformat": 4,
  "nbformat_minor": 0,
  "metadata": {
    "colab": {
      "provenance": []
    },
    "kernelspec": {
      "name": "python3",
      "display_name": "Python 3"
    },
    "language_info": {
      "name": "python"
    }
  },
  "cells": [
    {
      "cell_type": "code",
      "execution_count": null,
      "metadata": {
        "id": "8B4Qw3VvBwHn"
      },
      "outputs": [],
      "source": [
        "import pandas as pd\n",
        "import numpy as np\n",
        "import re\n",
        "import nltk\n",
        "from nltk.tokenize import word_tokenize\n",
        "from nltk.corpus import stopwords\n",
        "from nltk.stem import WordNetLemmatizer\n",
        "from gensim.models import Word2Vec"
      ]
    },
    {
      "cell_type": "code",
      "source": [
        "# Download necessary NLTK data\n",
        "nltk.download('punkt')\n",
        "nltk.download('stopwords')\n",
        "nltk.download('wordnet')"
      ],
      "metadata": {
        "colab": {
          "base_uri": "https://localhost:8080/"
        },
        "id": "AWkZhcpFB3te",
        "outputId": "1149f8eb-1c91-44dd-a781-21769f6fccd9"
      },
      "execution_count": null,
      "outputs": [
        {
          "output_type": "stream",
          "name": "stderr",
          "text": [
            "[nltk_data] Downloading package punkt to /root/nltk_data...\n",
            "[nltk_data]   Unzipping tokenizers/punkt.zip.\n",
            "[nltk_data] Downloading package stopwords to /root/nltk_data...\n",
            "[nltk_data]   Unzipping corpora/stopwords.zip.\n",
            "[nltk_data] Downloading package wordnet to /root/nltk_data...\n"
          ]
        },
        {
          "output_type": "execute_result",
          "data": {
            "text/plain": [
              "True"
            ]
          },
          "metadata": {},
          "execution_count": 2
        }
      ]
    },
    {
      "cell_type": "code",
      "source": [
        "def preprocess_text(text):\n",
        "    # Check for null values\n",
        "    if not text or pd.isnull(text):\n",
        "        return ''\n",
        "\n",
        "    # Tokenization\n",
        "    tokens = word_tokenize(text)\n",
        "\n",
        "    # Lowercasing\n",
        "    tokens = [word.lower() for word in tokens]\n",
        "\n",
        "    # Removing punctuation and non-alphabetic tokens\n",
        "    tokens = [word for word in tokens if word.isalpha()]\n",
        "\n",
        "    # Removing stop words\n",
        "    stop_words = set(stopwords.words('english'))\n",
        "    tokens = [word for word in tokens if word not in stop_words]\n",
        "\n",
        "    # Lemmatization\n",
        "    lemmatizer = WordNetLemmatizer()\n",
        "    tokens = [lemmatizer.lemmatize(word) for word in tokens]\n",
        "\n",
        "    return ','.join(tokens)"
      ],
      "metadata": {
        "id": "AfA-ywOcB6gC"
      },
      "execution_count": null,
      "outputs": []
    },
    {
      "cell_type": "code",
      "source": [
        "# Load the data\n",
        "file_path = '/content/drive/MyDrive/BugSum-master/excel sheet/output.csv'\n",
        "df = pd.read_csv(file_path)"
      ],
      "metadata": {
        "id": "q8bRmUtoCIIB"
      },
      "execution_count": null,
      "outputs": []
    },
    {
      "cell_type": "code",
      "source": [
        "# Apply preprocessing to each sentence\n",
        "df['Processed_Sentence'] = df['Sentence'].apply(preprocess_text)"
      ],
      "metadata": {
        "id": "quACRdmSD9vC"
      },
      "execution_count": null,
      "outputs": []
    },
    {
      "cell_type": "code",
      "source": [
        "# Prepare sentences for Word2Vec model training\n",
        "processed_sentences = df['Processed_Sentence'].tolist()\n"
      ],
      "metadata": {
        "id": "IaWRI1HOEA-c"
      },
      "execution_count": null,
      "outputs": []
    },
    {
      "cell_type": "code",
      "source": [
        "# Train Word2Vec model\n",
        "word2vec_model = Word2Vec(sentences=processed_sentences, vector_size=100, window=5, min_count=1, workers=4)"
      ],
      "metadata": {
        "id": "phZZehR3EHEE",
        "colab": {
          "base_uri": "https://localhost:8080/"
        },
        "outputId": "597d2b76-5906-4383-f5e9-b55b129cf263"
      },
      "execution_count": null,
      "outputs": [
        {
          "output_type": "stream",
          "name": "stderr",
          "text": [
            "WARNING:gensim.models.word2vec:Each 'sentences' item should be a list of words (usually unicode strings). First item here is instead plain <class 'str'>.\n"
          ]
        }
      ]
    },
    {
      "cell_type": "code",
      "source": [
        "# Sentence embedding function\n",
        "def sentence_embedding(sentence, model):\n",
        "    if not sentence:\n",
        "        return np.zeros(model.vector_size)\n",
        "    embeddings = [model.wv[word] for word in sentence if word in model.wv]\n",
        "    return np.mean(embeddings, axis=0) if embeddings else np.zeros(model.vector_size)"
      ],
      "metadata": {
        "id": "quwpz-r7ELBj"
      },
      "execution_count": null,
      "outputs": []
    },
    {
      "cell_type": "code",
      "source": [
        "# Apply sentence embedding\n",
        "df['Sentence_Embeddings'] = df['Processed_Sentence'].apply(lambda x: sentence_embedding(x, word2vec_model))\n"
      ],
      "metadata": {
        "id": "0DcjR7I4EPZh"
      },
      "execution_count": null,
      "outputs": []
    },
    {
      "cell_type": "code",
      "source": [
        "# Save the processed data to a CSV file\n",
        "output_file_path = '/content/drive/MyDrive/BugSum-master/excel sheet/processed_embeddings.csv'\n",
        "df.to_csv(output_file_path, index=False)"
      ],
      "metadata": {
        "id": "OpdDvOWsETQx"
      },
      "execution_count": null,
      "outputs": []
    },
    {
      "cell_type": "code",
      "source": [],
      "metadata": {
        "id": "zms16wkIEnDi"
      },
      "execution_count": null,
      "outputs": []
    }
  ]
}